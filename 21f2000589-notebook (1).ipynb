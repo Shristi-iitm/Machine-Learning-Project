{
 "cells": [
  {
   "cell_type": "code",
   "execution_count": 1,
   "id": "3b029e7f",
   "metadata": {
    "_cell_guid": "b1076dfc-b9ad-4769-8c92-a6c4dae69d19",
    "_uuid": "8f2839f25d086af736a60e9eeb907d3b93b6e0e5",
    "execution": {
     "iopub.execute_input": "2023-04-10T08:59:31.187261Z",
     "iopub.status.busy": "2023-04-10T08:59:31.186047Z",
     "iopub.status.idle": "2023-04-10T08:59:31.199198Z",
     "shell.execute_reply": "2023-04-10T08:59:31.197927Z"
    },
    "papermill": {
     "duration": 0.029581,
     "end_time": "2023-04-10T08:59:31.201168",
     "exception": false,
     "start_time": "2023-04-10T08:59:31.171587",
     "status": "completed"
    },
    "tags": []
   },
   "outputs": [
    {
     "name": "stdout",
     "output_type": "stream",
     "text": [
      "/kaggle/input/e-commerce-shoppers-behaviour-understanding/test_data_v2.csv\n",
      "/kaggle/input/e-commerce-shoppers-behaviour-understanding/train_data_v2.csv\n",
      "/kaggle/input/e-commerce-shoppers-behaviour-understanding/sample.csv\n"
     ]
    }
   ],
   "source": [
    "# This Python 3 environment comes with many helpful analytics libraries installed\n",
    "# It is defined by the kaggle/python Docker image: https://github.com/kaggle/docker-python\n",
    "# For example, here's several helpful packages to load\n",
    "\n",
    "import numpy as np # linear algebra\n",
    "import pandas as pd # data processing, CSV file I/O (e.g. pd.read_csv)\n",
    "\n",
    "# Input data files are available in the read-only \"../input/\" directory\n",
    "# For example, running this (by clicking run or pressing Shift+Enter) will list all files under the input directory\n",
    "\n",
    "import os\n",
    "for dirname, _, filenames in os.walk('/kaggle/input'):\n",
    "    for filename in filenames:\n",
    "        print(os.path.join(dirname, filename))\n",
    "\n",
    "# You can write up to 20GB to the current directory (/kaggle/working/) that gets preserved as output when you create a version using \"Save & Run All\" \n",
    "# You can also write temporary files to /kaggle/temp/, but they won't be saved outside of the current session"
   ]
  },
  {
   "cell_type": "markdown",
   "id": "debde217",
   "metadata": {
    "papermill": {
     "duration": 0.012713,
     "end_time": "2023-04-10T08:59:31.226109",
     "exception": false,
     "start_time": "2023-04-10T08:59:31.213396",
     "status": "completed"
    },
    "tags": []
   },
   "source": [
    "# Getting training data"
   ]
  },
  {
   "cell_type": "code",
   "execution_count": 2,
   "id": "a9e189fa",
   "metadata": {
    "execution": {
     "iopub.execute_input": "2023-04-10T08:59:31.251328Z",
     "iopub.status.busy": "2023-04-10T08:59:31.250910Z",
     "iopub.status.idle": "2023-04-10T08:59:31.320819Z",
     "shell.execute_reply": "2023-04-10T08:59:31.319869Z"
    },
    "papermill": {
     "duration": 0.084971,
     "end_time": "2023-04-10T08:59:31.322910",
     "exception": false,
     "start_time": "2023-04-10T08:59:31.237939",
     "status": "completed"
    },
    "tags": []
   },
   "outputs": [],
   "source": [
    "train_data = pd.read_csv(\"/kaggle/input/e-commerce-shoppers-behaviour-understanding/train_data_v2.csv\")"
   ]
  },
  {
   "cell_type": "code",
   "execution_count": 3,
   "id": "43319d92",
   "metadata": {
    "execution": {
     "iopub.execute_input": "2023-04-10T08:59:31.350263Z",
     "iopub.status.busy": "2023-04-10T08:59:31.349953Z",
     "iopub.status.idle": "2023-04-10T08:59:31.388557Z",
     "shell.execute_reply": "2023-04-10T08:59:31.387410Z"
    },
    "papermill": {
     "duration": 0.05429,
     "end_time": "2023-04-10T08:59:31.390587",
     "exception": false,
     "start_time": "2023-04-10T08:59:31.336297",
     "status": "completed"
    },
    "tags": []
   },
   "outputs": [
    {
     "data": {
      "text/html": [
       "<div>\n",
       "<style scoped>\n",
       "    .dataframe tbody tr th:only-of-type {\n",
       "        vertical-align: middle;\n",
       "    }\n",
       "\n",
       "    .dataframe tbody tr th {\n",
       "        vertical-align: top;\n",
       "    }\n",
       "\n",
       "    .dataframe thead th {\n",
       "        text-align: right;\n",
       "    }\n",
       "</style>\n",
       "<table border=\"1\" class=\"dataframe\">\n",
       "  <thead>\n",
       "    <tr style=\"text-align: right;\">\n",
       "      <th></th>\n",
       "      <th>HomePage</th>\n",
       "      <th>HomePage_Duration</th>\n",
       "      <th>LandingPage</th>\n",
       "      <th>LandingPage_Duration</th>\n",
       "      <th>ProductDescriptionPage</th>\n",
       "      <th>ProductDescriptionPage_Duration</th>\n",
       "      <th>GoogleMetric:Bounce Rates</th>\n",
       "      <th>GoogleMetric:Exit Rates</th>\n",
       "      <th>GoogleMetric:Page Values</th>\n",
       "      <th>SeasonalPurchase</th>\n",
       "      <th>...</th>\n",
       "      <th>SearchEngine</th>\n",
       "      <th>Zone</th>\n",
       "      <th>Type of Traffic</th>\n",
       "      <th>CustomerType</th>\n",
       "      <th>Gender</th>\n",
       "      <th>Cookies Setting</th>\n",
       "      <th>Education</th>\n",
       "      <th>Marital Status</th>\n",
       "      <th>WeekendPurchase</th>\n",
       "      <th>Made_Purchase</th>\n",
       "    </tr>\n",
       "  </thead>\n",
       "  <tbody>\n",
       "    <tr>\n",
       "      <th>0</th>\n",
       "      <td>0.0</td>\n",
       "      <td>0.0</td>\n",
       "      <td>0.0</td>\n",
       "      <td>0.0</td>\n",
       "      <td>1.0</td>\n",
       "      <td>0.000000</td>\n",
       "      <td>0.20</td>\n",
       "      <td>0.20</td>\n",
       "      <td>0.0</td>\n",
       "      <td>0.0</td>\n",
       "      <td>...</td>\n",
       "      <td>1.0</td>\n",
       "      <td>9.0</td>\n",
       "      <td>3.0</td>\n",
       "      <td>Returning_Visitor</td>\n",
       "      <td>Not Specified</td>\n",
       "      <td>Deny</td>\n",
       "      <td>Not Specified</td>\n",
       "      <td>Other</td>\n",
       "      <td>0.0</td>\n",
       "      <td>False</td>\n",
       "    </tr>\n",
       "    <tr>\n",
       "      <th>1</th>\n",
       "      <td>0.0</td>\n",
       "      <td>0.0</td>\n",
       "      <td>0.0</td>\n",
       "      <td>0.0</td>\n",
       "      <td>2.0</td>\n",
       "      <td>2.666667</td>\n",
       "      <td>0.05</td>\n",
       "      <td>0.14</td>\n",
       "      <td>0.0</td>\n",
       "      <td>0.0</td>\n",
       "      <td>...</td>\n",
       "      <td>2.0</td>\n",
       "      <td>2.0</td>\n",
       "      <td>4.0</td>\n",
       "      <td>Returning_Visitor</td>\n",
       "      <td>Female</td>\n",
       "      <td>Deny</td>\n",
       "      <td>Others</td>\n",
       "      <td>Married</td>\n",
       "      <td>0.0</td>\n",
       "      <td>False</td>\n",
       "    </tr>\n",
       "    <tr>\n",
       "      <th>2</th>\n",
       "      <td>0.0</td>\n",
       "      <td>0.0</td>\n",
       "      <td>0.0</td>\n",
       "      <td>0.0</td>\n",
       "      <td>10.0</td>\n",
       "      <td>627.500000</td>\n",
       "      <td>0.02</td>\n",
       "      <td>0.05</td>\n",
       "      <td>0.0</td>\n",
       "      <td>0.0</td>\n",
       "      <td>...</td>\n",
       "      <td>3.0</td>\n",
       "      <td>1.0</td>\n",
       "      <td>4.0</td>\n",
       "      <td>Returning_Visitor</td>\n",
       "      <td>Female</td>\n",
       "      <td>ALL</td>\n",
       "      <td>Others</td>\n",
       "      <td>Married</td>\n",
       "      <td>1.0</td>\n",
       "      <td>False</td>\n",
       "    </tr>\n",
       "    <tr>\n",
       "      <th>3</th>\n",
       "      <td>0.0</td>\n",
       "      <td>0.0</td>\n",
       "      <td>0.0</td>\n",
       "      <td>0.0</td>\n",
       "      <td>1.0</td>\n",
       "      <td>0.000000</td>\n",
       "      <td>0.20</td>\n",
       "      <td>0.20</td>\n",
       "      <td>0.0</td>\n",
       "      <td>0.4</td>\n",
       "      <td>...</td>\n",
       "      <td>4.0</td>\n",
       "      <td>3.0</td>\n",
       "      <td>3.0</td>\n",
       "      <td>Returning_Visitor</td>\n",
       "      <td>Male</td>\n",
       "      <td>ALL</td>\n",
       "      <td>Diploma</td>\n",
       "      <td>Single</td>\n",
       "      <td>0.0</td>\n",
       "      <td>False</td>\n",
       "    </tr>\n",
       "    <tr>\n",
       "      <th>4</th>\n",
       "      <td>1.0</td>\n",
       "      <td>0.0</td>\n",
       "      <td>0.0</td>\n",
       "      <td>0.0</td>\n",
       "      <td>0.0</td>\n",
       "      <td>0.000000</td>\n",
       "      <td>0.20</td>\n",
       "      <td>0.20</td>\n",
       "      <td>0.0</td>\n",
       "      <td>0.0</td>\n",
       "      <td>...</td>\n",
       "      <td>2.0</td>\n",
       "      <td>1.0</td>\n",
       "      <td>5.0</td>\n",
       "      <td>Returning_Visitor</td>\n",
       "      <td>Male</td>\n",
       "      <td>Deny</td>\n",
       "      <td>Diploma</td>\n",
       "      <td>Other</td>\n",
       "      <td>1.0</td>\n",
       "      <td>False</td>\n",
       "    </tr>\n",
       "  </tbody>\n",
       "</table>\n",
       "<p>5 rows × 22 columns</p>\n",
       "</div>"
      ],
      "text/plain": [
       "   HomePage  HomePage_Duration  LandingPage  LandingPage_Duration  \\\n",
       "0       0.0                0.0          0.0                   0.0   \n",
       "1       0.0                0.0          0.0                   0.0   \n",
       "2       0.0                0.0          0.0                   0.0   \n",
       "3       0.0                0.0          0.0                   0.0   \n",
       "4       1.0                0.0          0.0                   0.0   \n",
       "\n",
       "   ProductDescriptionPage  ProductDescriptionPage_Duration  \\\n",
       "0                     1.0                         0.000000   \n",
       "1                     2.0                         2.666667   \n",
       "2                    10.0                       627.500000   \n",
       "3                     1.0                         0.000000   \n",
       "4                     0.0                         0.000000   \n",
       "\n",
       "   GoogleMetric:Bounce Rates  GoogleMetric:Exit Rates  \\\n",
       "0                       0.20                     0.20   \n",
       "1                       0.05                     0.14   \n",
       "2                       0.02                     0.05   \n",
       "3                       0.20                     0.20   \n",
       "4                       0.20                     0.20   \n",
       "\n",
       "   GoogleMetric:Page Values  SeasonalPurchase  ... SearchEngine  Zone  \\\n",
       "0                       0.0               0.0  ...          1.0   9.0   \n",
       "1                       0.0               0.0  ...          2.0   2.0   \n",
       "2                       0.0               0.0  ...          3.0   1.0   \n",
       "3                       0.0               0.4  ...          4.0   3.0   \n",
       "4                       0.0               0.0  ...          2.0   1.0   \n",
       "\n",
       "   Type of Traffic       CustomerType         Gender Cookies Setting  \\\n",
       "0              3.0  Returning_Visitor  Not Specified            Deny   \n",
       "1              4.0  Returning_Visitor         Female            Deny   \n",
       "2              4.0  Returning_Visitor         Female             ALL   \n",
       "3              3.0  Returning_Visitor           Male             ALL   \n",
       "4              5.0  Returning_Visitor           Male            Deny   \n",
       "\n",
       "       Education Marital Status WeekendPurchase Made_Purchase  \n",
       "0  Not Specified          Other             0.0         False  \n",
       "1         Others        Married             0.0         False  \n",
       "2         Others        Married             1.0         False  \n",
       "3        Diploma         Single             0.0         False  \n",
       "4        Diploma          Other             1.0         False  \n",
       "\n",
       "[5 rows x 22 columns]"
      ]
     },
     "execution_count": 3,
     "metadata": {},
     "output_type": "execute_result"
    }
   ],
   "source": [
    "train_data.head()"
   ]
  },
  {
   "cell_type": "markdown",
   "id": "2bac24ff",
   "metadata": {
    "papermill": {
     "duration": 0.012299,
     "end_time": "2023-04-10T08:59:31.415839",
     "exception": false,
     "start_time": "2023-04-10T08:59:31.403540",
     "status": "completed"
    },
    "tags": []
   },
   "source": [
    "# Splitting it into X(features) and y(target)"
   ]
  },
  {
   "cell_type": "code",
   "execution_count": 4,
   "id": "81008e19",
   "metadata": {
    "execution": {
     "iopub.execute_input": "2023-04-10T08:59:31.442917Z",
     "iopub.status.busy": "2023-04-10T08:59:31.442028Z",
     "iopub.status.idle": "2023-04-10T08:59:31.448522Z",
     "shell.execute_reply": "2023-04-10T08:59:31.447688Z"
    },
    "papermill": {
     "duration": 0.022485,
     "end_time": "2023-04-10T08:59:31.451012",
     "exception": false,
     "start_time": "2023-04-10T08:59:31.428527",
     "status": "completed"
    },
    "tags": []
   },
   "outputs": [],
   "source": [
    "X = train_data.iloc[:,:-1]\n",
    "y = train_data.iloc[:,-1]"
   ]
  },
  {
   "cell_type": "code",
   "execution_count": 5,
   "id": "68f8fd67",
   "metadata": {
    "execution": {
     "iopub.execute_input": "2023-04-10T08:59:31.477698Z",
     "iopub.status.busy": "2023-04-10T08:59:31.477418Z",
     "iopub.status.idle": "2023-04-10T08:59:31.483309Z",
     "shell.execute_reply": "2023-04-10T08:59:31.482357Z"
    },
    "papermill": {
     "duration": 0.021367,
     "end_time": "2023-04-10T08:59:31.485327",
     "exception": false,
     "start_time": "2023-04-10T08:59:31.463960",
     "status": "completed"
    },
    "tags": []
   },
   "outputs": [
    {
     "data": {
      "text/plain": [
       "pandas.core.frame.DataFrame"
      ]
     },
     "execution_count": 5,
     "metadata": {},
     "output_type": "execute_result"
    }
   ],
   "source": [
    "type(X)"
   ]
  },
  {
   "cell_type": "code",
   "execution_count": 6,
   "id": "f3e1528c",
   "metadata": {
    "execution": {
     "iopub.execute_input": "2023-04-10T08:59:31.512688Z",
     "iopub.status.busy": "2023-04-10T08:59:31.512400Z",
     "iopub.status.idle": "2023-04-10T08:59:31.518255Z",
     "shell.execute_reply": "2023-04-10T08:59:31.517358Z"
    },
    "papermill": {
     "duration": 0.021105,
     "end_time": "2023-04-10T08:59:31.519989",
     "exception": false,
     "start_time": "2023-04-10T08:59:31.498884",
     "status": "completed"
    },
    "tags": []
   },
   "outputs": [
    {
     "data": {
      "text/plain": [
       "(14731, 21)"
      ]
     },
     "execution_count": 6,
     "metadata": {},
     "output_type": "execute_result"
    }
   ],
   "source": [
    "X.shape"
   ]
  },
  {
   "cell_type": "code",
   "execution_count": 7,
   "id": "198aab15",
   "metadata": {
    "execution": {
     "iopub.execute_input": "2023-04-10T08:59:31.546835Z",
     "iopub.status.busy": "2023-04-10T08:59:31.546541Z",
     "iopub.status.idle": "2023-04-10T08:59:31.551263Z",
     "shell.execute_reply": "2023-04-10T08:59:31.550646Z"
    },
    "papermill": {
     "duration": 0.020086,
     "end_time": "2023-04-10T08:59:31.552852",
     "exception": false,
     "start_time": "2023-04-10T08:59:31.532766",
     "status": "completed"
    },
    "tags": []
   },
   "outputs": [
    {
     "data": {
      "text/plain": [
       "(14731,)"
      ]
     },
     "execution_count": 7,
     "metadata": {},
     "output_type": "execute_result"
    }
   ],
   "source": [
    "y.shape"
   ]
  },
  {
   "cell_type": "markdown",
   "id": "f3cf9644",
   "metadata": {
    "papermill": {
     "duration": 0.012202,
     "end_time": "2023-04-10T08:59:31.577450",
     "exception": false,
     "start_time": "2023-04-10T08:59:31.565248",
     "status": "completed"
    },
    "tags": []
   },
   "source": [
    "# To check for unique values in X"
   ]
  },
  {
   "cell_type": "code",
   "execution_count": 8,
   "id": "cd96b398",
   "metadata": {
    "execution": {
     "iopub.execute_input": "2023-04-10T08:59:31.604173Z",
     "iopub.status.busy": "2023-04-10T08:59:31.603822Z",
     "iopub.status.idle": "2023-04-10T08:59:31.608057Z",
     "shell.execute_reply": "2023-04-10T08:59:31.606981Z"
    },
    "papermill": {
     "duration": 0.019834,
     "end_time": "2023-04-10T08:59:31.609921",
     "exception": false,
     "start_time": "2023-04-10T08:59:31.590087",
     "status": "completed"
    },
    "tags": []
   },
   "outputs": [],
   "source": [
    "# for col in X.columns:\n",
    "#     print(col,X[col].unique())"
   ]
  },
  {
   "cell_type": "markdown",
   "id": "0fd8c924",
   "metadata": {
    "papermill": {
     "duration": 0.012203,
     "end_time": "2023-04-10T08:59:31.634585",
     "exception": false,
     "start_time": "2023-04-10T08:59:31.622382",
     "status": "completed"
    },
    "tags": []
   },
   "source": [
    "# Counting number of NaN values "
   ]
  },
  {
   "cell_type": "code",
   "execution_count": 9,
   "id": "d9107c89",
   "metadata": {
    "execution": {
     "iopub.execute_input": "2023-04-10T08:59:31.661292Z",
     "iopub.status.busy": "2023-04-10T08:59:31.660967Z",
     "iopub.status.idle": "2023-04-10T08:59:31.665039Z",
     "shell.execute_reply": "2023-04-10T08:59:31.664168Z"
    },
    "papermill": {
     "duration": 0.019903,
     "end_time": "2023-04-10T08:59:31.666954",
     "exception": false,
     "start_time": "2023-04-10T08:59:31.647051",
     "status": "completed"
    },
    "tags": []
   },
   "outputs": [],
   "source": [
    "# X.isnull().sum()"
   ]
  },
  {
   "cell_type": "code",
   "execution_count": 10,
   "id": "10dd6134",
   "metadata": {
    "execution": {
     "iopub.execute_input": "2023-04-10T08:59:31.693792Z",
     "iopub.status.busy": "2023-04-10T08:59:31.693486Z",
     "iopub.status.idle": "2023-04-10T08:59:31.699486Z",
     "shell.execute_reply": "2023-04-10T08:59:31.698641Z"
    },
    "papermill": {
     "duration": 0.022019,
     "end_time": "2023-04-10T08:59:31.701640",
     "exception": false,
     "start_time": "2023-04-10T08:59:31.679621",
     "status": "completed"
    },
    "tags": []
   },
   "outputs": [
    {
     "data": {
      "text/plain": [
       "pandas.core.frame.DataFrame"
      ]
     },
     "execution_count": 10,
     "metadata": {},
     "output_type": "execute_result"
    }
   ],
   "source": [
    "type(X)"
   ]
  },
  {
   "cell_type": "code",
   "execution_count": 11,
   "id": "72ba43a2",
   "metadata": {
    "execution": {
     "iopub.execute_input": "2023-04-10T08:59:31.729697Z",
     "iopub.status.busy": "2023-04-10T08:59:31.729306Z",
     "iopub.status.idle": "2023-04-10T08:59:31.733773Z",
     "shell.execute_reply": "2023-04-10T08:59:31.732877Z"
    },
    "papermill": {
     "duration": 0.02057,
     "end_time": "2023-04-10T08:59:31.735461",
     "exception": false,
     "start_time": "2023-04-10T08:59:31.714891",
     "status": "completed"
    },
    "tags": []
   },
   "outputs": [],
   "source": [
    "X = pd.DataFrame(X)"
   ]
  },
  {
   "cell_type": "markdown",
   "id": "845de0d8",
   "metadata": {
    "papermill": {
     "duration": 0.012657,
     "end_time": "2023-04-10T08:59:31.760916",
     "exception": false,
     "start_time": "2023-04-10T08:59:31.748259",
     "status": "completed"
    },
    "tags": []
   },
   "source": [
    "# Getting the numerical and categorical columns of X separately"
   ]
  },
  {
   "cell_type": "code",
   "execution_count": 12,
   "id": "dd0a3e95",
   "metadata": {
    "execution": {
     "iopub.execute_input": "2023-04-10T08:59:31.789575Z",
     "iopub.status.busy": "2023-04-10T08:59:31.789208Z",
     "iopub.status.idle": "2023-04-10T08:59:31.802012Z",
     "shell.execute_reply": "2023-04-10T08:59:31.801332Z"
    },
    "papermill": {
     "duration": 0.02941,
     "end_time": "2023-04-10T08:59:31.804071",
     "exception": false,
     "start_time": "2023-04-10T08:59:31.774661",
     "status": "completed"
    },
    "tags": []
   },
   "outputs": [],
   "source": [
    "num_cols = X.select_dtypes(include=['float64']).columns\n",
    "cat_cols = X.select_dtypes(include=['object']).columns # replace with the names of your categorical columns"
   ]
  },
  {
   "cell_type": "code",
   "execution_count": 13,
   "id": "bb1addb7",
   "metadata": {
    "execution": {
     "iopub.execute_input": "2023-04-10T08:59:31.831761Z",
     "iopub.status.busy": "2023-04-10T08:59:31.831297Z",
     "iopub.status.idle": "2023-04-10T08:59:31.835886Z",
     "shell.execute_reply": "2023-04-10T08:59:31.834899Z"
    },
    "papermill": {
     "duration": 0.020806,
     "end_time": "2023-04-10T08:59:31.838067",
     "exception": false,
     "start_time": "2023-04-10T08:59:31.817261",
     "status": "completed"
    },
    "tags": []
   },
   "outputs": [],
   "source": [
    "# len(num_cols)"
   ]
  },
  {
   "cell_type": "markdown",
   "id": "a1e74be2",
   "metadata": {
    "papermill": {
     "duration": 0.012616,
     "end_time": "2023-04-10T08:59:31.864620",
     "exception": false,
     "start_time": "2023-04-10T08:59:31.852004",
     "status": "completed"
    },
    "tags": []
   },
   "source": [
    "# Replacing NaN values of categorical columns with mode values and numerical features with median values of that feature"
   ]
  },
  {
   "cell_type": "code",
   "execution_count": 14,
   "id": "dce2adea",
   "metadata": {
    "execution": {
     "iopub.execute_input": "2023-04-10T08:59:31.891476Z",
     "iopub.status.busy": "2023-04-10T08:59:31.891073Z",
     "iopub.status.idle": "2023-04-10T08:59:31.908630Z",
     "shell.execute_reply": "2023-04-10T08:59:31.907637Z"
    },
    "papermill": {
     "duration": 0.03335,
     "end_time": "2023-04-10T08:59:31.910412",
     "exception": false,
     "start_time": "2023-04-10T08:59:31.877062",
     "status": "completed"
    },
    "tags": []
   },
   "outputs": [],
   "source": [
    "for i in cat_cols:\n",
    "    X[i].fillna(X[i].mode()[0], inplace = True)"
   ]
  },
  {
   "cell_type": "code",
   "execution_count": 15,
   "id": "784e3b6b",
   "metadata": {
    "execution": {
     "iopub.execute_input": "2023-04-10T08:59:31.938085Z",
     "iopub.status.busy": "2023-04-10T08:59:31.937723Z",
     "iopub.status.idle": "2023-04-10T08:59:31.951050Z",
     "shell.execute_reply": "2023-04-10T08:59:31.950381Z"
    },
    "papermill": {
     "duration": 0.03019,
     "end_time": "2023-04-10T08:59:31.953740",
     "exception": false,
     "start_time": "2023-04-10T08:59:31.923550",
     "status": "completed"
    },
    "tags": []
   },
   "outputs": [],
   "source": [
    "for i in num_cols:\n",
    "    X[i].fillna(X[i].median(), inplace = True)"
   ]
  },
  {
   "cell_type": "code",
   "execution_count": 16,
   "id": "ff399181",
   "metadata": {
    "execution": {
     "iopub.execute_input": "2023-04-10T08:59:31.981104Z",
     "iopub.status.busy": "2023-04-10T08:59:31.980783Z",
     "iopub.status.idle": "2023-04-10T08:59:31.985374Z",
     "shell.execute_reply": "2023-04-10T08:59:31.984727Z"
    },
    "papermill": {
     "duration": 0.02023,
     "end_time": "2023-04-10T08:59:31.987019",
     "exception": false,
     "start_time": "2023-04-10T08:59:31.966789",
     "status": "completed"
    },
    "tags": []
   },
   "outputs": [
    {
     "data": {
      "text/plain": [
       "(14731, 21)"
      ]
     },
     "execution_count": 16,
     "metadata": {},
     "output_type": "execute_result"
    }
   ],
   "source": [
    "X.shape"
   ]
  },
  {
   "cell_type": "code",
   "execution_count": 17,
   "id": "d95439d2",
   "metadata": {
    "execution": {
     "iopub.execute_input": "2023-04-10T08:59:32.013818Z",
     "iopub.status.busy": "2023-04-10T08:59:32.013422Z",
     "iopub.status.idle": "2023-04-10T08:59:32.016229Z",
     "shell.execute_reply": "2023-04-10T08:59:32.015624Z"
    },
    "papermill": {
     "duration": 0.018317,
     "end_time": "2023-04-10T08:59:32.017998",
     "exception": false,
     "start_time": "2023-04-10T08:59:31.999681",
     "status": "completed"
    },
    "tags": []
   },
   "outputs": [],
   "source": [
    "# X.isnull().sum()"
   ]
  },
  {
   "cell_type": "code",
   "execution_count": 18,
   "id": "334cffe5",
   "metadata": {
    "execution": {
     "iopub.execute_input": "2023-04-10T08:59:32.045631Z",
     "iopub.status.busy": "2023-04-10T08:59:32.044639Z",
     "iopub.status.idle": "2023-04-10T08:59:32.050768Z",
     "shell.execute_reply": "2023-04-10T08:59:32.049963Z"
    },
    "papermill": {
     "duration": 0.021577,
     "end_time": "2023-04-10T08:59:32.052513",
     "exception": false,
     "start_time": "2023-04-10T08:59:32.030936",
     "status": "completed"
    },
    "tags": []
   },
   "outputs": [
    {
     "data": {
      "text/plain": [
       "pandas.core.frame.DataFrame"
      ]
     },
     "execution_count": 18,
     "metadata": {},
     "output_type": "execute_result"
    }
   ],
   "source": [
    "type(X)"
   ]
  },
  {
   "cell_type": "code",
   "execution_count": 19,
   "id": "c72821db",
   "metadata": {
    "execution": {
     "iopub.execute_input": "2023-04-10T08:59:32.080242Z",
     "iopub.status.busy": "2023-04-10T08:59:32.079379Z",
     "iopub.status.idle": "2023-04-10T08:59:32.084142Z",
     "shell.execute_reply": "2023-04-10T08:59:32.083109Z"
    },
    "papermill": {
     "duration": 0.020577,
     "end_time": "2023-04-10T08:59:32.086015",
     "exception": false,
     "start_time": "2023-04-10T08:59:32.065438",
     "status": "completed"
    },
    "tags": []
   },
   "outputs": [],
   "source": [
    "X = pd.DataFrame(X)"
   ]
  },
  {
   "cell_type": "markdown",
   "id": "98eb40cb",
   "metadata": {
    "papermill": {
     "duration": 0.012447,
     "end_time": "2023-04-10T08:59:32.111158",
     "exception": false,
     "start_time": "2023-04-10T08:59:32.098711",
     "status": "completed"
    },
    "tags": []
   },
   "source": [
    "# Preprocessing using OneHotEncoder and StandardScaler"
   ]
  },
  {
   "cell_type": "code",
   "execution_count": 20,
   "id": "1bf82bde",
   "metadata": {
    "execution": {
     "iopub.execute_input": "2023-04-10T08:59:32.138779Z",
     "iopub.status.busy": "2023-04-10T08:59:32.137720Z",
     "iopub.status.idle": "2023-04-10T08:59:33.013313Z",
     "shell.execute_reply": "2023-04-10T08:59:33.012581Z"
    },
    "papermill": {
     "duration": 0.891621,
     "end_time": "2023-04-10T08:59:33.015461",
     "exception": false,
     "start_time": "2023-04-10T08:59:32.123840",
     "status": "completed"
    },
    "tags": []
   },
   "outputs": [],
   "source": [
    "from sklearn.preprocessing import OneHotEncoder \n",
    "encoder = OneHotEncoder()\n",
    "from sklearn.preprocessing import StandardScaler\n",
    "scaler = StandardScaler()\n",
    "\n",
    "from sklearn.compose import ColumnTransformer\n",
    "ct = ColumnTransformer([('ohe', OneHotEncoder(),cat_cols),\n",
    "                       ('ss', StandardScaler(), num_cols)])\n",
    "X = ct.fit_transform(X)"
   ]
  },
  {
   "cell_type": "code",
   "execution_count": 21,
   "id": "d380e851",
   "metadata": {
    "execution": {
     "iopub.execute_input": "2023-04-10T08:59:33.043488Z",
     "iopub.status.busy": "2023-04-10T08:59:33.043064Z",
     "iopub.status.idle": "2023-04-10T08:59:33.048869Z",
     "shell.execute_reply": "2023-04-10T08:59:33.047992Z"
    },
    "papermill": {
     "duration": 0.021781,
     "end_time": "2023-04-10T08:59:33.050577",
     "exception": false,
     "start_time": "2023-04-10T08:59:33.028796",
     "status": "completed"
    },
    "tags": []
   },
   "outputs": [
    {
     "data": {
      "text/plain": [
       "(14731, 41)"
      ]
     },
     "execution_count": 21,
     "metadata": {},
     "output_type": "execute_result"
    }
   ],
   "source": [
    "X.shape"
   ]
  },
  {
   "cell_type": "code",
   "execution_count": 22,
   "id": "2af9486c",
   "metadata": {
    "execution": {
     "iopub.execute_input": "2023-04-10T08:59:33.078100Z",
     "iopub.status.busy": "2023-04-10T08:59:33.077591Z",
     "iopub.status.idle": "2023-04-10T08:59:33.082174Z",
     "shell.execute_reply": "2023-04-10T08:59:33.081240Z"
    },
    "papermill": {
     "duration": 0.021333,
     "end_time": "2023-04-10T08:59:33.084738",
     "exception": false,
     "start_time": "2023-04-10T08:59:33.063405",
     "status": "completed"
    },
    "tags": []
   },
   "outputs": [],
   "source": [
    "X = pd.DataFrame(X)"
   ]
  },
  {
   "cell_type": "markdown",
   "id": "cd02fb49",
   "metadata": {
    "papermill": {
     "duration": 0.012596,
     "end_time": "2023-04-10T08:59:33.110936",
     "exception": false,
     "start_time": "2023-04-10T08:59:33.098340",
     "status": "completed"
    },
    "tags": []
   },
   "source": [
    "# Train test split"
   ]
  },
  {
   "cell_type": "code",
   "execution_count": 23,
   "id": "3babf104",
   "metadata": {
    "execution": {
     "iopub.execute_input": "2023-04-10T08:59:33.138454Z",
     "iopub.status.busy": "2023-04-10T08:59:33.138087Z",
     "iopub.status.idle": "2023-04-10T08:59:33.202114Z",
     "shell.execute_reply": "2023-04-10T08:59:33.201146Z"
    },
    "papermill": {
     "duration": 0.080717,
     "end_time": "2023-04-10T08:59:33.204492",
     "exception": false,
     "start_time": "2023-04-10T08:59:33.123775",
     "status": "completed"
    },
    "tags": []
   },
   "outputs": [],
   "source": [
    "from sklearn.model_selection import train_test_split\n",
    "X_train,X_val,y_train,y_val = train_test_split(X,y,test_size= 0.2,random_state = 42)"
   ]
  },
  {
   "cell_type": "code",
   "execution_count": 24,
   "id": "cf9db517",
   "metadata": {
    "execution": {
     "iopub.execute_input": "2023-04-10T08:59:33.232331Z",
     "iopub.status.busy": "2023-04-10T08:59:33.231994Z",
     "iopub.status.idle": "2023-04-10T08:59:33.238105Z",
     "shell.execute_reply": "2023-04-10T08:59:33.237173Z"
    },
    "papermill": {
     "duration": 0.021978,
     "end_time": "2023-04-10T08:59:33.239900",
     "exception": false,
     "start_time": "2023-04-10T08:59:33.217922",
     "status": "completed"
    },
    "tags": []
   },
   "outputs": [
    {
     "data": {
      "text/plain": [
       "(11784, 41)"
      ]
     },
     "execution_count": 24,
     "metadata": {},
     "output_type": "execute_result"
    }
   ],
   "source": [
    "X_train.shape"
   ]
  },
  {
   "cell_type": "code",
   "execution_count": 25,
   "id": "90404f76",
   "metadata": {
    "execution": {
     "iopub.execute_input": "2023-04-10T08:59:33.268863Z",
     "iopub.status.busy": "2023-04-10T08:59:33.268512Z",
     "iopub.status.idle": "2023-04-10T08:59:33.275071Z",
     "shell.execute_reply": "2023-04-10T08:59:33.274040Z"
    },
    "papermill": {
     "duration": 0.023152,
     "end_time": "2023-04-10T08:59:33.276957",
     "exception": false,
     "start_time": "2023-04-10T08:59:33.253805",
     "status": "completed"
    },
    "tags": []
   },
   "outputs": [
    {
     "data": {
      "text/plain": [
       "(2947, 41)"
      ]
     },
     "execution_count": 25,
     "metadata": {},
     "output_type": "execute_result"
    }
   ],
   "source": [
    "X_val.shape"
   ]
  },
  {
   "cell_type": "code",
   "execution_count": 26,
   "id": "fb304227",
   "metadata": {
    "execution": {
     "iopub.execute_input": "2023-04-10T08:59:33.305582Z",
     "iopub.status.busy": "2023-04-10T08:59:33.305263Z",
     "iopub.status.idle": "2023-04-10T08:59:33.310483Z",
     "shell.execute_reply": "2023-04-10T08:59:33.309616Z"
    },
    "papermill": {
     "duration": 0.021746,
     "end_time": "2023-04-10T08:59:33.312243",
     "exception": false,
     "start_time": "2023-04-10T08:59:33.290497",
     "status": "completed"
    },
    "tags": []
   },
   "outputs": [
    {
     "data": {
      "text/plain": [
       "(11784,)"
      ]
     },
     "execution_count": 26,
     "metadata": {},
     "output_type": "execute_result"
    }
   ],
   "source": [
    "y_train.shape"
   ]
  },
  {
   "cell_type": "code",
   "execution_count": 27,
   "id": "0d6fdc99",
   "metadata": {
    "execution": {
     "iopub.execute_input": "2023-04-10T08:59:33.339869Z",
     "iopub.status.busy": "2023-04-10T08:59:33.339407Z",
     "iopub.status.idle": "2023-04-10T08:59:33.345220Z",
     "shell.execute_reply": "2023-04-10T08:59:33.344338Z"
    },
    "papermill": {
     "duration": 0.021926,
     "end_time": "2023-04-10T08:59:33.347154",
     "exception": false,
     "start_time": "2023-04-10T08:59:33.325228",
     "status": "completed"
    },
    "tags": []
   },
   "outputs": [
    {
     "data": {
      "text/plain": [
       "(2947,)"
      ]
     },
     "execution_count": 27,
     "metadata": {},
     "output_type": "execute_result"
    }
   ],
   "source": [
    "y_val.shape"
   ]
  },
  {
   "cell_type": "markdown",
   "id": "8efa1e9b",
   "metadata": {
    "papermill": {
     "duration": 0.013561,
     "end_time": "2023-04-10T08:59:33.374853",
     "exception": false,
     "start_time": "2023-04-10T08:59:33.361292",
     "status": "completed"
    },
    "tags": []
   },
   "source": [
    "# Getting test data"
   ]
  },
  {
   "cell_type": "code",
   "execution_count": 28,
   "id": "3ea02d25",
   "metadata": {
    "execution": {
     "iopub.execute_input": "2023-04-10T08:59:33.404385Z",
     "iopub.status.busy": "2023-04-10T08:59:33.404018Z",
     "iopub.status.idle": "2023-04-10T08:59:33.442749Z",
     "shell.execute_reply": "2023-04-10T08:59:33.441498Z"
    },
    "papermill": {
     "duration": 0.055604,
     "end_time": "2023-04-10T08:59:33.444782",
     "exception": false,
     "start_time": "2023-04-10T08:59:33.389178",
     "status": "completed"
    },
    "tags": []
   },
   "outputs": [],
   "source": [
    "X_test = pd.read_csv('/kaggle/input/e-commerce-shoppers-behaviour-understanding/test_data_v2.csv')"
   ]
  },
  {
   "cell_type": "code",
   "execution_count": 29,
   "id": "ef701ab6",
   "metadata": {
    "execution": {
     "iopub.execute_input": "2023-04-10T08:59:33.473631Z",
     "iopub.status.busy": "2023-04-10T08:59:33.472966Z",
     "iopub.status.idle": "2023-04-10T08:59:33.478004Z",
     "shell.execute_reply": "2023-04-10T08:59:33.477384Z"
    },
    "papermill": {
     "duration": 0.021368,
     "end_time": "2023-04-10T08:59:33.479672",
     "exception": false,
     "start_time": "2023-04-10T08:59:33.458304",
     "status": "completed"
    },
    "tags": []
   },
   "outputs": [
    {
     "data": {
      "text/plain": [
       "(6599, 21)"
      ]
     },
     "execution_count": 29,
     "metadata": {},
     "output_type": "execute_result"
    }
   ],
   "source": [
    "X_test.shape"
   ]
  },
  {
   "cell_type": "code",
   "execution_count": 30,
   "id": "8ee04ff9",
   "metadata": {
    "execution": {
     "iopub.execute_input": "2023-04-10T08:59:33.510053Z",
     "iopub.status.busy": "2023-04-10T08:59:33.509457Z",
     "iopub.status.idle": "2023-04-10T08:59:33.512821Z",
     "shell.execute_reply": "2023-04-10T08:59:33.512201Z"
    },
    "papermill": {
     "duration": 0.020656,
     "end_time": "2023-04-10T08:59:33.514670",
     "exception": false,
     "start_time": "2023-04-10T08:59:33.494014",
     "status": "completed"
    },
    "tags": []
   },
   "outputs": [],
   "source": [
    "# X_test.head()"
   ]
  },
  {
   "cell_type": "code",
   "execution_count": 31,
   "id": "b5cce74a",
   "metadata": {
    "execution": {
     "iopub.execute_input": "2023-04-10T08:59:33.543882Z",
     "iopub.status.busy": "2023-04-10T08:59:33.543469Z",
     "iopub.status.idle": "2023-04-10T08:59:33.547743Z",
     "shell.execute_reply": "2023-04-10T08:59:33.547148Z"
    },
    "papermill": {
     "duration": 0.020708,
     "end_time": "2023-04-10T08:59:33.549451",
     "exception": false,
     "start_time": "2023-04-10T08:59:33.528743",
     "status": "completed"
    },
    "tags": []
   },
   "outputs": [
    {
     "data": {
      "text/plain": [
       "pandas.core.frame.DataFrame"
      ]
     },
     "execution_count": 31,
     "metadata": {},
     "output_type": "execute_result"
    }
   ],
   "source": [
    "type(X_test)"
   ]
  },
  {
   "cell_type": "markdown",
   "id": "c4d9833e",
   "metadata": {
    "papermill": {
     "duration": 0.013561,
     "end_time": "2023-04-10T08:59:33.576959",
     "exception": false,
     "start_time": "2023-04-10T08:59:33.563398",
     "status": "completed"
    },
    "tags": []
   },
   "source": [
    "# Getting the numerical and categorical columns of X_test separately"
   ]
  },
  {
   "cell_type": "code",
   "execution_count": 32,
   "id": "0e95a9d6",
   "metadata": {
    "execution": {
     "iopub.execute_input": "2023-04-10T08:59:33.605875Z",
     "iopub.status.busy": "2023-04-10T08:59:33.605450Z",
     "iopub.status.idle": "2023-04-10T08:59:33.612344Z",
     "shell.execute_reply": "2023-04-10T08:59:33.611304Z"
    },
    "papermill": {
     "duration": 0.023713,
     "end_time": "2023-04-10T08:59:33.614455",
     "exception": false,
     "start_time": "2023-04-10T08:59:33.590742",
     "status": "completed"
    },
    "tags": []
   },
   "outputs": [],
   "source": [
    "num_cols = X_test.select_dtypes(include=['float64']).columns\n",
    "cat_cols = X_test.select_dtypes(include=['object']).columns # replace with the names of your categorical columns"
   ]
  },
  {
   "cell_type": "markdown",
   "id": "190853fe",
   "metadata": {
    "papermill": {
     "duration": 0.013493,
     "end_time": "2023-04-10T08:59:33.641851",
     "exception": false,
     "start_time": "2023-04-10T08:59:33.628358",
     "status": "completed"
    },
    "tags": []
   },
   "source": [
    "# Replacing NaN values of categorical columns with mode values and numerical features with median values of that feature"
   ]
  },
  {
   "cell_type": "code",
   "execution_count": 33,
   "id": "dd085ab2",
   "metadata": {
    "execution": {
     "iopub.execute_input": "2023-04-10T08:59:33.671338Z",
     "iopub.status.busy": "2023-04-10T08:59:33.671009Z",
     "iopub.status.idle": "2023-04-10T08:59:33.681801Z",
     "shell.execute_reply": "2023-04-10T08:59:33.680867Z"
    },
    "papermill": {
     "duration": 0.027832,
     "end_time": "2023-04-10T08:59:33.683595",
     "exception": false,
     "start_time": "2023-04-10T08:59:33.655763",
     "status": "completed"
    },
    "tags": []
   },
   "outputs": [],
   "source": [
    "for i in cat_cols:\n",
    "    X_test[i].fillna(X_test[i].mode()[0], inplace = True)"
   ]
  },
  {
   "cell_type": "code",
   "execution_count": 34,
   "id": "0082ca1f",
   "metadata": {
    "execution": {
     "iopub.execute_input": "2023-04-10T08:59:33.713411Z",
     "iopub.status.busy": "2023-04-10T08:59:33.712711Z",
     "iopub.status.idle": "2023-04-10T08:59:33.725145Z",
     "shell.execute_reply": "2023-04-10T08:59:33.723903Z"
    },
    "papermill": {
     "duration": 0.029644,
     "end_time": "2023-04-10T08:59:33.727252",
     "exception": false,
     "start_time": "2023-04-10T08:59:33.697608",
     "status": "completed"
    },
    "tags": []
   },
   "outputs": [],
   "source": [
    "for i in num_cols:\n",
    "    X_test[i].fillna(X_test[i].median(), inplace = True)"
   ]
  },
  {
   "cell_type": "code",
   "execution_count": 35,
   "id": "4d87dff6",
   "metadata": {
    "execution": {
     "iopub.execute_input": "2023-04-10T08:59:33.755931Z",
     "iopub.status.busy": "2023-04-10T08:59:33.755599Z",
     "iopub.status.idle": "2023-04-10T08:59:33.759925Z",
     "shell.execute_reply": "2023-04-10T08:59:33.759073Z"
    },
    "papermill": {
     "duration": 0.020995,
     "end_time": "2023-04-10T08:59:33.761978",
     "exception": false,
     "start_time": "2023-04-10T08:59:33.740983",
     "status": "completed"
    },
    "tags": []
   },
   "outputs": [],
   "source": [
    "X_test = pd.DataFrame(X_test)"
   ]
  },
  {
   "cell_type": "markdown",
   "id": "3eec30c6",
   "metadata": {
    "papermill": {
     "duration": 0.013417,
     "end_time": "2023-04-10T08:59:33.789320",
     "exception": false,
     "start_time": "2023-04-10T08:59:33.775903",
     "status": "completed"
    },
    "tags": []
   },
   "source": [
    "# Preprocessing using OneHotEncoder and StandardScaler"
   ]
  },
  {
   "cell_type": "code",
   "execution_count": 36,
   "id": "f990d632",
   "metadata": {
    "execution": {
     "iopub.execute_input": "2023-04-10T08:59:33.818535Z",
     "iopub.status.busy": "2023-04-10T08:59:33.817724Z",
     "iopub.status.idle": "2023-04-10T08:59:33.845918Z",
     "shell.execute_reply": "2023-04-10T08:59:33.845145Z"
    },
    "papermill": {
     "duration": 0.044787,
     "end_time": "2023-04-10T08:59:33.847615",
     "exception": false,
     "start_time": "2023-04-10T08:59:33.802828",
     "status": "completed"
    },
    "tags": []
   },
   "outputs": [],
   "source": [
    "num_cols = X_test.select_dtypes(include=['float64']).columns\n",
    "cat_cols = X_test.select_dtypes(include=['object']).columns # replace with the names of your categorical columns\n",
    "\n",
    "from sklearn.preprocessing import OneHotEncoder \n",
    "# create an instance of OneHotEncoder with handle_unknown='ignore'\n",
    "encoder = OneHotEncoder()\n",
    "from sklearn.preprocessing import StandardScaler\n",
    "\n",
    "scaler = StandardScaler()\n",
    "\n",
    "from sklearn.compose import ColumnTransformer\n",
    "ct = ColumnTransformer([('ohe', OneHotEncoder(),cat_cols),\n",
    "                       ('ss', StandardScaler(), num_cols)])\n",
    "X_test = ct.fit_transform(X_test)"
   ]
  },
  {
   "cell_type": "code",
   "execution_count": 37,
   "id": "7f528e02",
   "metadata": {
    "execution": {
     "iopub.execute_input": "2023-04-10T08:59:33.876999Z",
     "iopub.status.busy": "2023-04-10T08:59:33.875940Z",
     "iopub.status.idle": "2023-04-10T08:59:33.880507Z",
     "shell.execute_reply": "2023-04-10T08:59:33.879635Z"
    },
    "papermill": {
     "duration": 0.021406,
     "end_time": "2023-04-10T08:59:33.882451",
     "exception": false,
     "start_time": "2023-04-10T08:59:33.861045",
     "status": "completed"
    },
    "tags": []
   },
   "outputs": [],
   "source": [
    "X_test = pd.DataFrame(X_test)"
   ]
  },
  {
   "cell_type": "code",
   "execution_count": 38,
   "id": "4c931f57",
   "metadata": {
    "execution": {
     "iopub.execute_input": "2023-04-10T08:59:33.911911Z",
     "iopub.status.busy": "2023-04-10T08:59:33.911490Z",
     "iopub.status.idle": "2023-04-10T08:59:33.915855Z",
     "shell.execute_reply": "2023-04-10T08:59:33.914898Z"
    },
    "papermill": {
     "duration": 0.021324,
     "end_time": "2023-04-10T08:59:33.917649",
     "exception": false,
     "start_time": "2023-04-10T08:59:33.896325",
     "status": "completed"
    },
    "tags": []
   },
   "outputs": [],
   "source": [
    "# X_test.info()"
   ]
  },
  {
   "cell_type": "markdown",
   "id": "8ff93351",
   "metadata": {
    "papermill": {
     "duration": 0.013308,
     "end_time": "2023-04-10T08:59:33.944686",
     "exception": false,
     "start_time": "2023-04-10T08:59:33.931378",
     "status": "completed"
    },
    "tags": []
   },
   "source": [
    "# Building Binary Class Classification model using XGBClassifier and GridSearchCV"
   ]
  },
  {
   "cell_type": "code",
   "execution_count": 39,
   "id": "f5a374b0",
   "metadata": {
    "execution": {
     "iopub.execute_input": "2023-04-10T08:59:33.972945Z",
     "iopub.status.busy": "2023-04-10T08:59:33.972640Z",
     "iopub.status.idle": "2023-04-10T09:00:59.660815Z",
     "shell.execute_reply": "2023-04-10T09:00:59.659696Z"
    },
    "papermill": {
     "duration": 85.715875,
     "end_time": "2023-04-10T09:00:59.673973",
     "exception": false,
     "start_time": "2023-04-10T08:59:33.958098",
     "status": "completed"
    },
    "tags": []
   },
   "outputs": [
    {
     "name": "stdout",
     "output_type": "stream",
     "text": [
      "Accuracy: 0.6878181201221581\n"
     ]
    }
   ],
   "source": [
    "import xgboost as xgb\n",
    "from sklearn.model_selection import GridSearchCV\n",
    "\n",
    "from sklearn.metrics import accuracy_score\n",
    "\n",
    "# Train the model\n",
    "#model = LogisticRegression()\n",
    "\n",
    "param_grid = {\n",
    "    'learning_rate': [ 0.01,0.08, 0.1],\n",
    "    'n_estimators': [100,200],\n",
    "    'max_depth': [3, 4, 5],\n",
    "    \n",
    "}\n",
    "model = xgb.XGBClassifier()\n",
    "grid_search = GridSearchCV(estimator=model, param_grid=param_grid, cv=5, n_jobs=-1)\n",
    "grid_search.fit(X_train, y_train)\n",
    "\n",
    "# Make predictions on the validation set\n",
    "y_pred = grid_search.predict(X_val)\n",
    "\n",
    "# Calculate the accuracy of the model\n",
    "accuracy = accuracy_score(y_val, y_pred)\n",
    "print(\"Accuracy:\", accuracy)"
   ]
  },
  {
   "cell_type": "code",
   "execution_count": 40,
   "id": "0ce5d7b8",
   "metadata": {
    "execution": {
     "iopub.execute_input": "2023-04-10T09:00:59.703623Z",
     "iopub.status.busy": "2023-04-10T09:00:59.702774Z",
     "iopub.status.idle": "2023-04-10T09:00:59.709113Z",
     "shell.execute_reply": "2023-04-10T09:00:59.708235Z"
    },
    "papermill": {
     "duration": 0.023354,
     "end_time": "2023-04-10T09:00:59.710830",
     "exception": false,
     "start_time": "2023-04-10T09:00:59.687476",
     "status": "completed"
    },
    "tags": []
   },
   "outputs": [
    {
     "data": {
      "text/plain": [
       "(2947,)"
      ]
     },
     "execution_count": 40,
     "metadata": {},
     "output_type": "execute_result"
    }
   ],
   "source": [
    "y_val.shape"
   ]
  },
  {
   "cell_type": "code",
   "execution_count": 41,
   "id": "096ff04a",
   "metadata": {
    "execution": {
     "iopub.execute_input": "2023-04-10T09:00:59.740252Z",
     "iopub.status.busy": "2023-04-10T09:00:59.739928Z",
     "iopub.status.idle": "2023-04-10T09:00:59.745730Z",
     "shell.execute_reply": "2023-04-10T09:00:59.744312Z"
    },
    "papermill": {
     "duration": 0.02292,
     "end_time": "2023-04-10T09:00:59.747713",
     "exception": false,
     "start_time": "2023-04-10T09:00:59.724793",
     "status": "completed"
    },
    "tags": []
   },
   "outputs": [
    {
     "data": {
      "text/plain": [
       "(2947,)"
      ]
     },
     "execution_count": 41,
     "metadata": {},
     "output_type": "execute_result"
    }
   ],
   "source": [
    "y_pred.shape"
   ]
  },
  {
   "cell_type": "code",
   "execution_count": 42,
   "id": "e5b5160c",
   "metadata": {
    "execution": {
     "iopub.execute_input": "2023-04-10T09:00:59.777643Z",
     "iopub.status.busy": "2023-04-10T09:00:59.777316Z",
     "iopub.status.idle": "2023-04-10T09:00:59.782734Z",
     "shell.execute_reply": "2023-04-10T09:00:59.781807Z"
    },
    "papermill": {
     "duration": 0.022451,
     "end_time": "2023-04-10T09:00:59.784491",
     "exception": false,
     "start_time": "2023-04-10T09:00:59.762040",
     "status": "completed"
    },
    "tags": []
   },
   "outputs": [
    {
     "data": {
      "text/plain": [
       "(11784,)"
      ]
     },
     "execution_count": 42,
     "metadata": {},
     "output_type": "execute_result"
    }
   ],
   "source": [
    "y_train.shape"
   ]
  },
  {
   "cell_type": "code",
   "execution_count": 43,
   "id": "aeb34b38",
   "metadata": {
    "execution": {
     "iopub.execute_input": "2023-04-10T09:00:59.813672Z",
     "iopub.status.busy": "2023-04-10T09:00:59.813334Z",
     "iopub.status.idle": "2023-04-10T09:00:59.818888Z",
     "shell.execute_reply": "2023-04-10T09:00:59.817735Z"
    },
    "papermill": {
     "duration": 0.022302,
     "end_time": "2023-04-10T09:00:59.820684",
     "exception": false,
     "start_time": "2023-04-10T09:00:59.798382",
     "status": "completed"
    },
    "tags": []
   },
   "outputs": [
    {
     "data": {
      "text/plain": [
       "(6599, 41)"
      ]
     },
     "execution_count": 43,
     "metadata": {},
     "output_type": "execute_result"
    }
   ],
   "source": [
    "X_test.shape"
   ]
  },
  {
   "cell_type": "code",
   "execution_count": 44,
   "id": "5d6e999f",
   "metadata": {
    "execution": {
     "iopub.execute_input": "2023-04-10T09:00:59.849659Z",
     "iopub.status.busy": "2023-04-10T09:00:59.849374Z",
     "iopub.status.idle": "2023-04-10T09:00:59.852947Z",
     "shell.execute_reply": "2023-04-10T09:00:59.851934Z"
    },
    "papermill": {
     "duration": 0.020114,
     "end_time": "2023-04-10T09:00:59.854657",
     "exception": false,
     "start_time": "2023-04-10T09:00:59.834543",
     "status": "completed"
    },
    "tags": []
   },
   "outputs": [],
   "source": [
    "# X_test.head()"
   ]
  },
  {
   "cell_type": "markdown",
   "id": "937841aa",
   "metadata": {
    "papermill": {
     "duration": 0.013619,
     "end_time": "2023-04-10T09:00:59.882923",
     "exception": false,
     "start_time": "2023-04-10T09:00:59.869304",
     "status": "completed"
    },
    "tags": []
   },
   "source": [
    "# Predicting y_test using gridsearch on X_test"
   ]
  },
  {
   "cell_type": "code",
   "execution_count": 45,
   "id": "5a910f34",
   "metadata": {
    "execution": {
     "iopub.execute_input": "2023-04-10T09:00:59.912173Z",
     "iopub.status.busy": "2023-04-10T09:00:59.911806Z",
     "iopub.status.idle": "2023-04-10T09:00:59.925415Z",
     "shell.execute_reply": "2023-04-10T09:00:59.924511Z"
    },
    "papermill": {
     "duration": 0.031937,
     "end_time": "2023-04-10T09:00:59.928591",
     "exception": false,
     "start_time": "2023-04-10T09:00:59.896654",
     "status": "completed"
    },
    "tags": []
   },
   "outputs": [],
   "source": [
    "prediction  = grid_search.predict(X_test)\n",
    "prediction = prediction.astype(bool)"
   ]
  },
  {
   "cell_type": "markdown",
   "id": "730eb80e",
   "metadata": {
    "papermill": {
     "duration": 0.013548,
     "end_time": "2023-04-10T09:00:59.956422",
     "exception": false,
     "start_time": "2023-04-10T09:00:59.942874",
     "status": "completed"
    },
    "tags": []
   },
   "source": [
    "# Importing Metrics to get accuracy and f1_score"
   ]
  },
  {
   "cell_type": "code",
   "execution_count": 46,
   "id": "c74abfbc",
   "metadata": {
    "execution": {
     "iopub.execute_input": "2023-04-10T09:00:59.985581Z",
     "iopub.status.busy": "2023-04-10T09:00:59.985229Z",
     "iopub.status.idle": "2023-04-10T09:00:59.989968Z",
     "shell.execute_reply": "2023-04-10T09:00:59.988970Z"
    },
    "papermill": {
     "duration": 0.021827,
     "end_time": "2023-04-10T09:00:59.992061",
     "exception": false,
     "start_time": "2023-04-10T09:00:59.970234",
     "status": "completed"
    },
    "tags": []
   },
   "outputs": [],
   "source": [
    "from sklearn.metrics import f1_score,accuracy_score"
   ]
  },
  {
   "cell_type": "code",
   "execution_count": 47,
   "id": "b8b8f67c",
   "metadata": {
    "execution": {
     "iopub.execute_input": "2023-04-10T09:01:00.021523Z",
     "iopub.status.busy": "2023-04-10T09:01:00.020923Z",
     "iopub.status.idle": "2023-04-10T09:01:00.031063Z",
     "shell.execute_reply": "2023-04-10T09:01:00.029547Z"
    },
    "papermill": {
     "duration": 0.026978,
     "end_time": "2023-04-10T09:01:00.032885",
     "exception": false,
     "start_time": "2023-04-10T09:01:00.005907",
     "status": "completed"
    },
    "tags": []
   },
   "outputs": [
    {
     "data": {
      "text/plain": [
       "0.4125159642401022"
      ]
     },
     "execution_count": 47,
     "metadata": {},
     "output_type": "execute_result"
    }
   ],
   "source": [
    "f1_score(y_val, y_pred)     "
   ]
  },
  {
   "cell_type": "code",
   "execution_count": 48,
   "id": "a5fcb54c",
   "metadata": {
    "execution": {
     "iopub.execute_input": "2023-04-10T09:01:00.062745Z",
     "iopub.status.busy": "2023-04-10T09:01:00.062142Z",
     "iopub.status.idle": "2023-04-10T09:01:00.068077Z",
     "shell.execute_reply": "2023-04-10T09:01:00.067218Z"
    },
    "papermill": {
     "duration": 0.022826,
     "end_time": "2023-04-10T09:01:00.069861",
     "exception": false,
     "start_time": "2023-04-10T09:01:00.047035",
     "status": "completed"
    },
    "tags": []
   },
   "outputs": [
    {
     "data": {
      "text/plain": [
       "0.6878181201221581"
      ]
     },
     "execution_count": 48,
     "metadata": {},
     "output_type": "execute_result"
    }
   ],
   "source": [
    "accuracy_score(y_val, y_pred)  "
   ]
  },
  {
   "cell_type": "markdown",
   "id": "64c330e7",
   "metadata": {
    "papermill": {
     "duration": 0.013981,
     "end_time": "2023-04-10T09:01:00.097677",
     "exception": false,
     "start_time": "2023-04-10T09:01:00.083696",
     "status": "completed"
    },
    "tags": []
   },
   "source": [
    "# Looking at the sample format"
   ]
  },
  {
   "cell_type": "code",
   "execution_count": 49,
   "id": "fe181f06",
   "metadata": {
    "execution": {
     "iopub.execute_input": "2023-04-10T09:01:00.126994Z",
     "iopub.status.busy": "2023-04-10T09:01:00.126634Z",
     "iopub.status.idle": "2023-04-10T09:01:00.150889Z",
     "shell.execute_reply": "2023-04-10T09:01:00.150241Z"
    },
    "papermill": {
     "duration": 0.040904,
     "end_time": "2023-04-10T09:01:00.152486",
     "exception": false,
     "start_time": "2023-04-10T09:01:00.111582",
     "status": "completed"
    },
    "tags": []
   },
   "outputs": [
    {
     "data": {
      "text/html": [
       "<div>\n",
       "<style scoped>\n",
       "    .dataframe tbody tr th:only-of-type {\n",
       "        vertical-align: middle;\n",
       "    }\n",
       "\n",
       "    .dataframe tbody tr th {\n",
       "        vertical-align: top;\n",
       "    }\n",
       "\n",
       "    .dataframe thead th {\n",
       "        text-align: right;\n",
       "    }\n",
       "</style>\n",
       "<table border=\"1\" class=\"dataframe\">\n",
       "  <thead>\n",
       "    <tr style=\"text-align: right;\">\n",
       "      <th></th>\n",
       "      <th>id</th>\n",
       "      <th>Made_Purchase</th>\n",
       "    </tr>\n",
       "  </thead>\n",
       "  <tbody>\n",
       "    <tr>\n",
       "      <th>0</th>\n",
       "      <td>0</td>\n",
       "      <td>False</td>\n",
       "    </tr>\n",
       "    <tr>\n",
       "      <th>1</th>\n",
       "      <td>1</td>\n",
       "      <td>False</td>\n",
       "    </tr>\n",
       "    <tr>\n",
       "      <th>2</th>\n",
       "      <td>2</td>\n",
       "      <td>False</td>\n",
       "    </tr>\n",
       "    <tr>\n",
       "      <th>3</th>\n",
       "      <td>3</td>\n",
       "      <td>False</td>\n",
       "    </tr>\n",
       "    <tr>\n",
       "      <th>4</th>\n",
       "      <td>4</td>\n",
       "      <td>False</td>\n",
       "    </tr>\n",
       "  </tbody>\n",
       "</table>\n",
       "</div>"
      ],
      "text/plain": [
       "   id  Made_Purchase\n",
       "0   0          False\n",
       "1   1          False\n",
       "2   2          False\n",
       "3   3          False\n",
       "4   4          False"
      ]
     },
     "execution_count": 49,
     "metadata": {},
     "output_type": "execute_result"
    }
   ],
   "source": [
    "sample = pd.read_csv('/kaggle/input/e-commerce-shoppers-behaviour-understanding/sample.csv')\n",
    "sample.head()"
   ]
  },
  {
   "cell_type": "markdown",
   "id": "f017b88a",
   "metadata": {
    "papermill": {
     "duration": 0.014156,
     "end_time": "2023-04-10T09:01:00.180954",
     "exception": false,
     "start_time": "2023-04-10T09:01:00.166798",
     "status": "completed"
    },
    "tags": []
   },
   "source": [
    "# Making Submissions"
   ]
  },
  {
   "cell_type": "code",
   "execution_count": 50,
   "id": "ce9db77d",
   "metadata": {
    "execution": {
     "iopub.execute_input": "2023-04-10T09:01:00.211057Z",
     "iopub.status.busy": "2023-04-10T09:01:00.210091Z",
     "iopub.status.idle": "2023-04-10T09:01:00.234535Z",
     "shell.execute_reply": "2023-04-10T09:01:00.233607Z"
    },
    "papermill": {
     "duration": 0.041636,
     "end_time": "2023-04-10T09:01:00.236630",
     "exception": false,
     "start_time": "2023-04-10T09:01:00.194994",
     "status": "completed"
    },
    "tags": []
   },
   "outputs": [],
   "source": [
    "submission = pd.DataFrame(columns = ['id','Made_Purchase'])\n",
    "submission['id'] = [i for i in range(len(prediction))]\n",
    "submission['Made_Purchase'] = prediction\n",
    "submission.to_csv('submission.csv',index = False)"
   ]
  },
  {
   "cell_type": "code",
   "execution_count": 51,
   "id": "961e66ec",
   "metadata": {
    "execution": {
     "iopub.execute_input": "2023-04-10T09:01:00.266774Z",
     "iopub.status.busy": "2023-04-10T09:01:00.266473Z",
     "iopub.status.idle": "2023-04-10T09:01:00.275036Z",
     "shell.execute_reply": "2023-04-10T09:01:00.274027Z"
    },
    "papermill": {
     "duration": 0.025707,
     "end_time": "2023-04-10T09:01:00.276793",
     "exception": false,
     "start_time": "2023-04-10T09:01:00.251086",
     "status": "completed"
    },
    "tags": []
   },
   "outputs": [
    {
     "data": {
      "text/html": [
       "<div>\n",
       "<style scoped>\n",
       "    .dataframe tbody tr th:only-of-type {\n",
       "        vertical-align: middle;\n",
       "    }\n",
       "\n",
       "    .dataframe tbody tr th {\n",
       "        vertical-align: top;\n",
       "    }\n",
       "\n",
       "    .dataframe thead th {\n",
       "        text-align: right;\n",
       "    }\n",
       "</style>\n",
       "<table border=\"1\" class=\"dataframe\">\n",
       "  <thead>\n",
       "    <tr style=\"text-align: right;\">\n",
       "      <th></th>\n",
       "      <th>id</th>\n",
       "      <th>Made_Purchase</th>\n",
       "    </tr>\n",
       "  </thead>\n",
       "  <tbody>\n",
       "    <tr>\n",
       "      <th>0</th>\n",
       "      <td>0</td>\n",
       "      <td>False</td>\n",
       "    </tr>\n",
       "    <tr>\n",
       "      <th>1</th>\n",
       "      <td>1</td>\n",
       "      <td>False</td>\n",
       "    </tr>\n",
       "    <tr>\n",
       "      <th>2</th>\n",
       "      <td>2</td>\n",
       "      <td>False</td>\n",
       "    </tr>\n",
       "    <tr>\n",
       "      <th>3</th>\n",
       "      <td>3</td>\n",
       "      <td>False</td>\n",
       "    </tr>\n",
       "    <tr>\n",
       "      <th>4</th>\n",
       "      <td>4</td>\n",
       "      <td>False</td>\n",
       "    </tr>\n",
       "  </tbody>\n",
       "</table>\n",
       "</div>"
      ],
      "text/plain": [
       "   id  Made_Purchase\n",
       "0   0          False\n",
       "1   1          False\n",
       "2   2          False\n",
       "3   3          False\n",
       "4   4          False"
      ]
     },
     "execution_count": 51,
     "metadata": {},
     "output_type": "execute_result"
    }
   ],
   "source": [
    "submission.head()"
   ]
  }
 ],
 "metadata": {
  "kernelspec": {
   "display_name": "Python 3",
   "language": "python",
   "name": "python3"
  },
  "language_info": {
   "codemirror_mode": {
    "name": "ipython",
    "version": 3
   },
   "file_extension": ".py",
   "mimetype": "text/x-python",
   "name": "python",
   "nbconvert_exporter": "python",
   "pygments_lexer": "ipython3",
   "version": "3.7.12"
  },
  "papermill": {
   "default_parameters": {},
   "duration": 99.949553,
   "end_time": "2023-04-10T09:01:02.910296",
   "environment_variables": {},
   "exception": null,
   "input_path": "__notebook__.ipynb",
   "output_path": "__notebook__.ipynb",
   "parameters": {},
   "start_time": "2023-04-10T08:59:22.960743",
   "version": "2.4.0"
  }
 },
 "nbformat": 4,
 "nbformat_minor": 5
}
